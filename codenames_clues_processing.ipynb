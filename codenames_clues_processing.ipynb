{
 "cells": [
  {
   "cell_type": "markdown",
   "metadata": {},
   "source": [
    "# Processing Codenames Clues"
   ]
  },
  {
   "cell_type": "code",
   "execution_count": 6,
   "metadata": {},
   "outputs": [],
   "source": [
    "import numpy as np\n",
    "import gensim"
   ]
  },
  {
   "cell_type": "code",
   "execution_count": 7,
   "metadata": {},
   "outputs": [],
   "source": [
    "model = gensim.models.KeyedVectors.load_word2vec_format(\n",
    "    'GoogleNews-vectors-negative300.bin', binary=True, limit=500000\n",
    ")"
   ]
  },
  {
   "cell_type": "code",
   "execution_count": 16,
   "metadata": {},
   "outputs": [],
   "source": [
    "blue = ['boot', 'chest', 'parachute', 'opera', 'square', 'triangle', 'watch', 'scientist', 'embassy']\n",
    "red = ['duck', 'horn', 'club', 'knight', 'green', 'jet', 'ketchup', 'slug']\n",
    "bomb = ['ship']"
   ]
  },
  {
   "cell_type": "code",
   "execution_count": 19,
   "metadata": {},
   "outputs": [
    {
     "data": {
      "text/plain": [
       "[('sociologist', 0.2902722954750061),\n",
       " ('doctoral_student', 0.26502445340156555),\n",
       " ('Embassy', 0.2545923590660095),\n",
       " ('Associate_Professor', 0.24647679924964905),\n",
       " ('Observatory', 0.24054788053035736),\n",
       " ('researcher', 0.23794464766979218),\n",
       " ('collaborators', 0.23586289584636688),\n",
       " ('assistant_professor', 0.233751118183136),\n",
       " ('consulates', 0.23194798827171326),\n",
       " ('fractures', 0.230932354927063)]"
      ]
     },
     "execution_count": 19,
     "metadata": {},
     "output_type": "execute_result"
    }
   ],
   "source": [
    "model.most_similar(\n",
    "    positive=blue,\n",
    "    negative=(red + bomb),\n",
    "    restrict_vocab=50000)"
   ]
  },
  {
   "cell_type": "code",
   "execution_count": null,
   "metadata": {},
   "outputs": [],
   "source": []
  }
 ],
 "metadata": {
  "kernelspec": {
   "display_name": "Python 3",
   "language": "python",
   "name": "python3"
  },
  "language_info": {
   "codemirror_mode": {
    "name": "ipython",
    "version": 3
   },
   "file_extension": ".py",
   "mimetype": "text/x-python",
   "name": "python",
   "nbconvert_exporter": "python",
   "pygments_lexer": "ipython3",
   "version": "3.7.4"
  }
 },
 "nbformat": 4,
 "nbformat_minor": 2
}
