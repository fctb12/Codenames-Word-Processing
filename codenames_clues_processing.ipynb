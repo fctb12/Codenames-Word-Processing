{
 "cells": [
  {
   "cell_type": "markdown",
   "metadata": {},
   "source": [
    "# Processing Codenames Clues"
   ]
  },
  {
   "cell_type": "code",
   "execution_count": 1,
   "metadata": {},
   "outputs": [],
   "source": [
    "from itertools import chain, combinations\n",
    "import gensim"
   ]
  },
  {
   "cell_type": "code",
   "execution_count": 2,
   "metadata": {},
   "outputs": [],
   "source": [
    "model = gensim.models.KeyedVectors.load_word2vec_format(\n",
    "    'GoogleNews-vectors-negative300.bin', binary=True, limit=500000\n",
    ")"
   ]
  },
  {
   "cell_type": "code",
   "execution_count": 3,
   "metadata": {},
   "outputs": [],
   "source": [
    "def powerset(iterable):\n",
    "    s = list(iterable)\n",
    "    pwrset = list(chain.from_iterable(combinations(s, r) for r in range(len(s))))\n",
    "    pwrset.remove(())\n",
    "    return pwrset"
   ]
  },
  {
   "cell_type": "code",
   "execution_count": 75,
   "metadata": {},
   "outputs": [],
   "source": [
    "def find_grouping_optimum(grouping, red, bomb):\n",
    "    if len(grouping) == 1:\n",
    "        grouping_options = model.similar_by_word(grouping[0], topn=10)\n",
    "    else:\n",
    "        try:\n",
    "            grouping_options = model.most_similar(positive=grouping, restrict_vocab=50000)\n",
    "        except:\n",
    "            print(grouping)\n",
    "    \n",
    "    for option in grouping_options:\n",
    "        if is_valid_option(grouping, option):\n",
    "            return (grouping, option)\n",
    "    return (grouping, (\"null\", 0))\n",
    "\n",
    "def is_valid_option(grouping, option):\n",
    "    chars = set('0123456789#$,')\n",
    "    for clue in grouping:\n",
    "        if clue.lower() in option[0].lower() or option[0].lower() in clue.lower() or any((c in option[0]) for c in chars):\n",
    "            return False\n",
    "    return True\n",
    "\n",
    "def apply_weight(grouping_option):\n",
    "    clue = grouping_option[1][0]\n",
    "    score = grouping_option[1][1] * (len(grouping_option[0])**0.2)\n",
    "    return (grouping_option[0], (clue, score))\n",
    "\n",
    "def sort_clue_options(clue_options):\n",
    "    return list(sorted(clue_options, key=lambda r: r[1][1], reverse=True))\n",
    "\n",
    "def find_best_clues(clues, opposing_clues, bomb):\n",
    "    groupings = []\n",
    "    while len(clues) > 0:\n",
    "        if len(clues) == 1:\n",
    "            combination_clues = [(clues[0],)]\n",
    "        else:\n",
    "            combination_clues = powerset(clues)[len(clues):]\n",
    "            \n",
    "        clue_options = [find_grouping_optimum(grouping, red, bomb) for grouping in combination_clues]\n",
    "        clue_options = list(map(apply_weight, clue_options))\n",
    "        sorted_clue_options = sort_clue_options(clue_options)\n",
    "    \n",
    "        groupings.append(sorted_clue_options[0])\n",
    "        for clue in sorted_clue_options[0][0]:\n",
    "            clues.remove(clue)\n",
    "    return groupings"
   ]
  },
  {
   "cell_type": "code",
   "execution_count": 76,
   "metadata": {},
   "outputs": [
    {
     "data": {
      "text/plain": [
       "[(('piano', 'bugle', 'smuggler'), ('violin', 0.8513782321951723)),\n",
       " (('ambulance', 'missile', 'crane'), ('helicopter', 0.7761688168828)),\n",
       " (('bond', 'bank'), ('bail', 0.6054254601644118)),\n",
       " (('heart',), ('cardiac', 0.5147262215614319))]"
      ]
     },
     "execution_count": 76,
     "metadata": {},
     "output_type": "execute_result"
    }
   ],
   "source": [
    "blue = ['piano', 'ambulance', 'bugle', 'missile', 'bond', 'heart', 'crane', 'smuggler', 'bank']\n",
    "red = ['shadow', 'vacuum', 'root', 'ham', 'head', 'march', 'ray', 'air']\n",
    "bomb = ['Beijing']\n",
    "\n",
    "find_best_clues(blue, red, bomb)"
   ]
  },
  {
   "cell_type": "code",
   "execution_count": null,
   "metadata": {},
   "outputs": [],
   "source": []
  },
  {
   "cell_type": "code",
   "execution_count": null,
   "metadata": {},
   "outputs": [],
   "source": []
  }
 ],
 "metadata": {
  "kernelspec": {
   "display_name": "Python 3",
   "language": "python",
   "name": "python3"
  },
  "language_info": {
   "codemirror_mode": {
    "name": "ipython",
    "version": 3
   },
   "file_extension": ".py",
   "mimetype": "text/x-python",
   "name": "python",
   "nbconvert_exporter": "python",
   "pygments_lexer": "ipython3",
   "version": "3.7.4"
  }
 },
 "nbformat": 4,
 "nbformat_minor": 2
}
