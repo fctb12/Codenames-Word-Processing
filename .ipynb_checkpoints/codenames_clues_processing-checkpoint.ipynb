{
 "cells": [
  {
   "cell_type": "markdown",
   "metadata": {},
   "source": [
    "# Processing Codenames Clues"
   ]
  },
  {
   "cell_type": "markdown",
   "metadata": {},
   "source": [
    "Trained with 100 billion words from Google News, can a word2vec model perform the job of the spymaster in Codenames? For those of you who do not know what Codenames is, it's bascially like verbal charades except you give clues for many words at a time. Check out this <a href=\"https://en.wikipedia.org/wiki/Codenames_(board_game)\">link!</a>"
   ]
  },
  {
   "cell_type": "code",
   "execution_count": 1,
   "metadata": {},
   "outputs": [],
   "source": [
    "from itertools import chain, combinations\n",
    "import gensim\n",
    "import numpy as np\n",
    "import matplotlib.pyplot as plt\n",
    "from sklearn import metrics\n",
    "from sklearn.cluster import KMeans\n",
    "from sklearn.datasets import load_digits\n",
    "from sklearn.decomposition import PCA\n",
    "from sklearn.preprocessing import scale\n",
    "import time"
   ]
  },
  {
   "cell_type": "markdown",
   "metadata": {},
   "source": [
    "Let's load in a model trained from 100 billion Google News words"
   ]
  },
  {
   "cell_type": "code",
   "execution_count": 2,
   "metadata": {},
   "outputs": [],
   "source": [
    "model = gensim.models.KeyedVectors.load_word2vec_format(\n",
    "    'GoogleNews-vectors-negative300.bin', binary=True, limit=500000\n",
    ")"
   ]
  },
  {
   "cell_type": "code",
   "execution_count": 1,
   "metadata": {},
   "outputs": [],
   "source": [
    "def powerset(iterable):\n",
    "    \"\"\"\n",
    "    Returns the powerset of an iterable object without the empty set\n",
    "    \"\"\"\n",
    "    s = list(iterable)\n",
    "    pwrset = list(chain.from_iterable(combinations(s, r) for r in range(len(s))))\n",
    "    pwrset.remove(())\n",
    "    return pwrset"
   ]
  },
  {
   "cell_type": "code",
   "execution_count": 4,
   "metadata": {},
   "outputs": [],
   "source": [
    "def find_grouping_optimum(grouping, red, bomb):\n",
    "    if len(grouping) == 1:\n",
    "        grouping_options = model.similar_by_word(grouping[0], topn=10)\n",
    "    else:\n",
    "        try:\n",
    "            grouping_options = model.most_similar(positive=grouping, restrict_vocab=50000)\n",
    "        except:\n",
    "            print(grouping)\n",
    "    \n",
    "    for option in grouping_options:\n",
    "        if is_valid_option(grouping, option):\n",
    "            return (grouping, option)\n",
    "    return (grouping, (\"null\", 0))\n",
    "\n",
    "def is_valid_option(grouping, option):\n",
    "    chars = set('0123456789#$,')\n",
    "    for clue in grouping:\n",
    "        if clue.lower() in option[0].lower() or option[0].lower() in clue.lower() or any((c in option[0]) for c in chars):\n",
    "            return False\n",
    "    return True\n",
    "\n",
    "def apply_weight(grouping_option):\n",
    "    clue = grouping_option[1][0]\n",
    "    score = grouping_option[1][1] * (len(grouping_option[0])**0.2)\n",
    "    return (grouping_option[0], (clue, score))\n",
    "\n",
    "def sort_clue_options(clue_options):\n",
    "    return list(sorted(clue_options, key=lambda r: r[1][1], reverse=True))\n",
    "\n",
    "def find_best_clues(clues, opposing_clues, bomb):\n",
    "    \"\"\"\n",
    "    Returns the optimal groupings of clues\n",
    "    \"\"\"\n",
    "    groupings = []\n",
    "    while len(clues) > 0:\n",
    "        if len(clues) == 1:\n",
    "            combination_clues = [(clues[0],)]\n",
    "        else:\n",
    "            combination_clues = powerset(clues)[len(clues):]\n",
    "            \n",
    "        clue_options = [find_grouping_optimum(grouping, red, bomb) for grouping in combination_clues]\n",
    "        clue_options = list(map(apply_weight, clue_options))\n",
    "        sorted_clue_options = sort_clue_options(clue_options)\n",
    "    \n",
    "        groupings.append(sorted_clue_options[0])\n",
    "        for clue in sorted_clue_options[0][0]:\n",
    "            clues.remove(clue)\n",
    "    return groupings"
   ]
  },
  {
   "cell_type": "markdown",
   "metadata": {},
   "source": [
    "## Iterating through powerset sets to find optimum groupings\n",
    "Let's iterate through every set in the powerset of the clues set to find the best possible word groupings!"
   ]
  },
  {
   "cell_type": "code",
   "execution_count": 5,
   "metadata": {},
   "outputs": [
    {
     "data": {
      "text/plain": [
       "[(('piano', 'bugle', 'smuggler'), ('violin', 0.8513782321951723)),\n",
       " (('ambulance', 'missile', 'crane'), ('helicopter', 0.7761688168828)),\n",
       " (('bond', 'bank'), ('bail', 0.6054254601644118)),\n",
       " (('heart',), ('cardiac', 0.5147262215614319))]"
      ]
     },
     "execution_count": 5,
     "metadata": {},
     "output_type": "execute_result"
    }
   ],
   "source": [
    "blue = ['piano', 'ambulance', 'bugle', 'missile', 'bond', 'heart', 'crane', 'smuggler', 'bank']\n",
    "red = ['shadow', 'vacuum', 'root', 'ham', 'head', 'march', 'ray', 'air']\n",
    "bomb = ['Beijing']\n",
    "\n",
    "find_best_clues(blue, red, bomb)"
   ]
  },
  {
   "cell_type": "markdown",
   "metadata": {},
   "source": [
    "## Using principal component analysis to graph words vectors"
   ]
  },
  {
   "cell_type": "code",
   "execution_count": 6,
   "metadata": {},
   "outputs": [],
   "source": [
    "pca = PCA(n_components=2)"
   ]
  },
  {
   "cell_type": "code",
   "execution_count": 7,
   "metadata": {},
   "outputs": [],
   "source": [
    "blue = ['piano', 'ambulance', 'bugle', 'missile', 'bond', 'heart', 'crane', 'smuggler', 'bank']\n",
    "blue_clue_vecs = list(map(lambda clue: model[clue], blue))\n",
    "\n",
    "flattened_vecs = pca.fit_transform(blue_clue_vecs)"
   ]
  },
  {
   "cell_type": "code",
   "execution_count": 8,
   "metadata": {},
   "outputs": [
    {
     "data": {
      "image/png": "[encoded data removed]",
      "text/plain": [
       "<Figure size 432x288 with 1 Axes>"
      ]
     },
     "metadata": {
      "needs_background": "light"
     },
     "output_type": "display_data"
    }
   ],
   "source": [
    "i = 0\n",
    "for clue in flattened_vecs:\n",
    "    plt.plot(clue[0], clue[1], '+', label=blue[i])\n",
    "    i += 1\n",
    "plt.legend()\n",
    "plt.show()"
   ]
  },
  {
   "cell_type": "markdown",
   "metadata": {},
   "source": [
    "## Using k-means clustering to find the optimum groupings"
   ]
  },
  {
   "cell_type": "code",
   "execution_count": 9,
   "metadata": {},
   "outputs": [],
   "source": [
    "kmeans = KMeans(n_clusters=4)\n",
    "grouped_clues = kmeans.fit(blue_clue_vecs)"
   ]
  },
  {
   "cell_type": "code",
   "execution_count": 17,
   "metadata": {},
   "outputs": [
    {
     "data": {
      "text/plain": [
       "array([0, 2, 0, 1, 2, 2, 2, 3, 2], dtype=int32)"
      ]
     },
     "execution_count": 17,
     "metadata": {},
     "output_type": "execute_result"
    }
   ],
   "source": [
    "grouped_clues.labels_"
   ]
  },
  {
   "cell_type": "code",
   "execution_count": 18,
   "metadata": {},
   "outputs": [],
   "source": [
    "group_labels = grouped_clues.labels_\n",
    "first_group = list(filter(lambda clue: group_labels[blue.index(clue)] == 0, blue))\n",
    "second_group = list(filter(lambda clue: group_labels[blue.index(clue)] == 1, blue))\n",
    "third_group = list(filter(lambda clue: group_labels[blue.index(clue)] == 2, blue))\n",
    "fourth_group = list(filter(lambda clue: group_labels[blue.index(clue)] == 3, blue))"
   ]
  },
  {
   "cell_type": "code",
   "execution_count": 19,
   "metadata": {},
   "outputs": [
    {
     "name": "stdout",
     "output_type": "stream",
     "text": [
      "['piano', 'bugle']\n",
      "['missile']\n",
      "['ambulance', 'bond', 'heart', 'crane', 'bank']\n",
      "['smuggler']\n"
     ]
    }
   ],
   "source": [
    "print(first_group)\n",
    "print(second_group)\n",
    "print(third_group)\n",
    "print(fourth_group)"
   ]
  },
  {
   "cell_type": "code",
   "execution_count": 22,
   "metadata": {},
   "outputs": [
    {
     "name": "stdout",
     "output_type": "stream",
     "text": [
      "(['piano', 'bugle'], ('violin', 0.7376845479011536))\n",
      "(['missile'], ('missle', 0.719150185585022))\n",
      "(['ambulance', 'bond', 'heart', 'crane', 'bank'], ('hospital', 0.47680243849754333))\n",
      "(['smuggler'], ('smuggling', 0.6931908130645752))\n"
     ]
    }
   ],
   "source": [
    "groupings = [first_group, second_group, third_group, fourth_group]\n",
    "for grouping in groupings:\n",
    "    print(find_grouping_optimum(grouping, red, bomb))"
   ]
  },
  {
   "cell_type": "code",
   "execution_count": null,
   "metadata": {},
   "outputs": [],
   "source": []
  }
 ],
 "metadata": {
  "kernelspec": {
   "display_name": "Python 3",
   "language": "python",
   "name": "python3"
  },
  "language_info": {
   "codemirror_mode": {
    "name": "ipython",
    "version": 3
   },
   "file_extension": ".py",
   "mimetype": "text/x-python",
   "name": "python",
   "nbconvert_exporter": "python",
   "pygments_lexer": "ipython3",
   "version": "3.7.4"
  }
 },
 "nbformat": 4,
 "nbformat_minor": 2
}
