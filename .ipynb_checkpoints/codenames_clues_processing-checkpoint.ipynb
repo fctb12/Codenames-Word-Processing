{
 "cells": [
  {
   "cell_type": "markdown",
   "metadata": {},
   "source": [
    "# Processing Codenames Clues"
   ]
  },
  {
   "cell_type": "code",
   "execution_count": 1,
   "metadata": {},
   "outputs": [],
   "source": [
    "from itertools import chain, combinations\n",
    "import gensim"
   ]
  },
  {
   "cell_type": "code",
   "execution_count": 2,
   "metadata": {},
   "outputs": [],
   "source": [
    "model = gensim.models.KeyedVectors.load_word2vec_format(\n",
    "    'GoogleNews-vectors-negative300.bin', binary=True, limit=500000\n",
    ")"
   ]
  },
  {
   "cell_type": "code",
   "execution_count": 3,
   "metadata": {},
   "outputs": [],
   "source": [
    "def powerset(iterable):\n",
    "    s = list(iterable)\n",
    "    pwrset = list(chain.from_iterable(combinations(s, r) for r in range(len(s))))\n",
    "    pwrset.remove(())\n",
    "    return pwrset"
   ]
  },
  {
   "cell_type": "code",
   "execution_count": 4,
   "metadata": {},
   "outputs": [],
   "source": [
    "def find_grouping_optimum(grouping, red, bomb):\n",
    "    if len(grouping) == 1:\n",
    "        grouping_options = model.similar_by_word(grouping[0], topn=10)\n",
    "    else:\n",
    "        try:\n",
    "            grouping_options = model.most_similar(positive=grouping, restrict_vocab=50000)\n",
    "        except:\n",
    "            print(grouping)\n",
    "    \n",
    "    for option in grouping_options:\n",
    "        if is_valid_option(grouping, option):\n",
    "            return (grouping, option)\n",
    "    return (grouping, (\"null\", 0))\n",
    "\n",
    "def is_valid_option(grouping, option):\n",
    "    chars = set('0123456789#$,')\n",
    "    for clue in grouping:\n",
    "        if clue.lower() in option[0].lower() or option[0].lower() in clue.lower() or any((c in option[0]) for c in chars):\n",
    "            return False\n",
    "    return True\n",
    "\n",
    "def apply_weight(grouping_option):\n",
    "    clue = grouping_option[1][0]\n",
    "    score = grouping_option[1][1] * (len(grouping_option[0])**0.2)\n",
    "    return (grouping_option[0], (clue, score))\n",
    "\n",
    "def sort_clue_options(clue_options):\n",
    "    return list(sorted(clue_options, key=lambda r: r[1][1], reverse=True))\n",
    "\n",
    "def find_best_clues(clues, opposing_clues, bomb):\n",
    "    groupings = []\n",
    "    while len(clues) > 0:\n",
    "        if len(clues) == 1:\n",
    "            combination_clues = [(clues[0],)]\n",
    "        else:\n",
    "            combination_clues = powerset(clues)[len(clues):]\n",
    "            \n",
    "        clue_options = [find_grouping_optimum(grouping, red, bomb) for grouping in combination_clues]\n",
    "        clue_options = list(map(apply_weight, clue_options))\n",
    "        sorted_clue_options = sort_clue_options(clue_options)\n",
    "    \n",
    "        groupings.append(sorted_clue_options[0])\n",
    "        for clue in sorted_clue_options[0][0]:\n",
    "            clues.remove(clue)\n",
    "    return groupings"
   ]
  },
  {
   "cell_type": "code",
   "execution_count": 5,
   "metadata": {},
   "outputs": [
    {
     "data": {
      "text/plain": [
       "[(('piano', 'bugle', 'smuggler'), ('violin', 0.8513782321951723)),\n",
       " (('ambulance', 'missile', 'crane'), ('helicopter', 0.7761688168828)),\n",
       " (('bond', 'bank'), ('bail', 0.6054254601644118)),\n",
       " (('heart',), ('cardiac', 0.5147262215614319))]"
      ]
     },
     "execution_count": 5,
     "metadata": {},
     "output_type": "execute_result"
    }
   ],
   "source": [
    "blue = ['piano', 'ambulance', 'bugle', 'missile', 'bond', 'heart', 'crane', 'smuggler', 'bank']\n",
    "red = ['shadow', 'vacuum', 'root', 'ham', 'head', 'march', 'ray', 'air']\n",
    "bomb = ['Beijing']\n",
    "\n",
    "find_best_clues(blue, red, bomb)"
   ]
  },
  {
   "cell_type": "code",
   "execution_count": 12,
   "metadata": {},
   "outputs": [],
   "source": [
    "a = model['Beijing'] - model['China']"
   ]
  },
  {
   "cell_type": "code",
   "execution_count": 13,
   "metadata": {},
   "outputs": [],
   "source": [
    "b = model['Paris'] - model['France']"
   ]
  },
  {
   "cell_type": "code",
   "execution_count": 14,
   "metadata": {},
   "outputs": [
    {
     "data": {
      "text/plain": [
       "array([ 0.00756836,  0.00439453,  0.35836792, -0.05883789, -0.08227539,\n",
       "       -0.00756836, -0.00878906,  0.02612305, -0.08984375,  0.03088379,\n",
       "       -0.04296875, -0.10681152, -0.19433594,  0.16113281, -0.11035156,\n",
       "        0.28999805, -0.0090332 ,  0.10070801, -0.07598877, -0.06298828,\n",
       "        0.13671875,  0.1586914 , -0.00842285, -0.18676758, -0.10412598,\n",
       "       -0.11132812,  0.01489258, -0.2557068 , -0.03894043,  0.24230957,\n",
       "        0.09667969,  0.02050781,  0.1953125 ,  0.01318359,  0.29125977,\n",
       "       -0.04589844, -0.06640625, -0.06640625,  0.04003906, -0.19396973,\n",
       "        0.06317139, -0.01086426,  0.06668854,  0.02880859, -0.07055664,\n",
       "        0.046875  , -0.10351562,  0.04907227, -0.0168457 , -0.05615234,\n",
       "        0.02392578, -0.09692383, -0.07202148,  0.11621094,  0.04971313,\n",
       "       -0.02050781, -0.34960938, -0.11523438, -0.21875   ,  0.2159729 ,\n",
       "        0.01702881,  0.02246094,  0.05310059, -0.16210938,  0.01855469,\n",
       "       -0.08087158,  0.27657318, -0.05664062,  0.04107666,  0.12597656,\n",
       "       -0.0871582 ,  0.18811035,  0.05944824, -0.0390625 , -0.00170898,\n",
       "       -0.1895752 ,  0.0234375 , -0.13131714, -0.14550781, -0.09570312,\n",
       "        0.1449585 ,  0.14941406,  0.17303467,  0.07611084,  0.10205078,\n",
       "       -0.15234375,  0.0916748 , -0.2539673 ,  0.17126465,  0.01513672,\n",
       "       -0.04736328,  0.0526123 , -0.19140625,  0.1274414 ,  0.2298584 ,\n",
       "        0.06420898,  0.01098633,  0.05944824, -0.00634766,  0.07775879,\n",
       "       -0.0078125 , -0.02281189,  0.05297852,  0.15039062,  0.06274414,\n",
       "        0.06494141,  0.23321533, -0.07418823,  0.26708984, -0.08032227,\n",
       "        0.00683594,  0.11669922,  0.15283203,  0.0324707 ,  0.0559082 ,\n",
       "       -0.12561035,  0.13381958,  0.08227539,  0.15356445,  0.00683594,\n",
       "       -0.23388672,  0.03808594, -0.02648926,  0.14318848, -0.06689453,\n",
       "        0.00561523,  0.3187256 ,  0.20483398, -0.08911133,  0.07498169,\n",
       "        0.02526855,  0.20019531, -0.06616211, -0.18945312,  0.08465576,\n",
       "        0.13830566,  0.08334732, -0.02832031,  0.03222656, -0.00585938,\n",
       "       -0.09863281,  0.06726074,  0.15161133,  0.05102539, -0.08544922,\n",
       "       -0.04748535,  0.1640625 , -0.08184814,  0.05102539,  0.08154297,\n",
       "        0.01000977,  0.04614258,  0.10406494, -0.14990234,  0.0302124 ,\n",
       "       -0.09277344,  0.19671631,  0.02392578, -0.15393066,  0.28515625,\n",
       "       -0.03125   ,  0.00036621,  0.24145508, -0.27809525, -0.04431152,\n",
       "       -0.08886719, -0.18261719,  0.05273438, -0.03210449, -0.07861328,\n",
       "       -0.06298828,  0.01171875,  0.03686523,  0.09570312,  0.10009766,\n",
       "        0.0625    ,  0.05151367,  0.05126953, -0.03955078,  0.20800781,\n",
       "        0.12133789, -0.00036621,  0.07714844, -0.05859375,  0.        ,\n",
       "       -0.0004425 , -0.10580444,  0.04199219, -0.01196289,  0.07971191,\n",
       "       -0.04083252,  0.06176758, -0.09326172, -0.19091797,  0.25427246,\n",
       "        0.00488281,  0.14074707,  0.34521484, -0.33618164,  0.06933594,\n",
       "       -0.11329651,  0.08276367, -0.18945312,  0.17797852,  0.19042969,\n",
       "       -0.07714844, -0.1352539 , -0.18139648,  0.17163086, -0.21118164,\n",
       "        0.10961914, -0.29016113, -0.12573242,  0.2614746 ,  0.034729  ,\n",
       "       -0.10302734,  0.07971191, -0.11181641, -0.2767334 , -0.07006836,\n",
       "       -0.14816284, -0.04431152,  0.1918335 , -0.31481934, -0.12255859,\n",
       "        0.09423828, -0.05419922,  0.09423828,  0.18261719, -0.02636719,\n",
       "        0.06994629, -0.04959106, -0.08380127,  0.15991211, -0.11303711,\n",
       "        0.14892578,  0.05834961, -0.00317383, -0.03845215, -0.00537109,\n",
       "       -0.22509766, -0.25317383,  0.03378296, -0.08639526,  0.04956055,\n",
       "       -0.08837891, -0.31933594,  0.07055664, -0.21484375,  0.00683594,\n",
       "       -0.02288818, -0.15136719,  0.12536621,  0.0982666 ,  0.04931641,\n",
       "        0.203125  ,  0.03442383, -0.11425781, -0.18457031,  0.10351562,\n",
       "       -0.1385498 ,  0.23535156, -0.11572266,  0.11376953,  0.0703125 ,\n",
       "       -0.23901367, -0.10168457, -0.17480469,  0.06542969, -0.13671875,\n",
       "       -0.16748047, -0.02246094,  0.05358887, -0.02493286, -0.13720703,\n",
       "       -0.04260254,  0.04699707, -0.00195312,  0.06433105,  0.16137695,\n",
       "       -0.00390625, -0.08557129,  0.16786194, -0.00909424,  0.0513916 ,\n",
       "        0.04956055,  0.02148438,  0.08789062, -0.08197021,  0.16308594,\n",
       "        0.10742188,  0.12255859, -0.01276112,  0.06347656, -0.04785156,\n",
       "        0.00244141,  0.00732422, -0.06518555,  0.19238281, -0.00610352],\n",
       "      dtype=float32)"
      ]
     },
     "execution_count": 14,
     "metadata": {},
     "output_type": "execute_result"
    }
   ],
   "source": []
  },
  {
   "cell_type": "code",
   "execution_count": null,
   "metadata": {},
   "outputs": [],
   "source": []
  }
 ],
 "metadata": {
  "kernelspec": {
   "display_name": "Python 3",
   "language": "python",
   "name": "python3"
  },
  "language_info": {
   "codemirror_mode": {
    "name": "ipython",
    "version": 3
   },
   "file_extension": ".py",
   "mimetype": "text/x-python",
   "name": "python",
   "nbconvert_exporter": "python",
   "pygments_lexer": "ipython3",
   "version": "3.7.4"
  }
 },
 "nbformat": 4,
 "nbformat_minor": 2
}
